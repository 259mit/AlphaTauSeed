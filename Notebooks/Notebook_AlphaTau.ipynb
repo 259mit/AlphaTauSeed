{
  "nbformat": 4,
  "nbformat_minor": 0,
  "metadata": {
    "colab": {
      "name": "Notebook - AlphaTau",
      "provenance": [],
      "collapsed_sections": []
    },
    "kernelspec": {
      "name": "python3",
      "display_name": "Python 3"
    },
    "language_info": {
      "name": "python"
    }
  },
  "cells": [
    {
      "cell_type": "markdown",
      "metadata": {
        "id": "DTgDN6-LuKGh"
      },
      "source": [
        "#Installing Dependencies"
      ]
    },
    {
      "cell_type": "code",
      "metadata": {
        "colab": {
          "base_uri": "https://localhost:8080/"
        },
        "id": "AbcVfR7Y1dJO",
        "outputId": "e7557584-8d5f-4f5f-c4f3-8b7d63277ad5"
      },
      "source": [
        "!pip install pydicom\n",
        "!pip install albumentations==0.4.6\n",
        "!pip install nilearn\n",
        "!pip install nipype\n",
        "! pip install gdown\n",
        "!pip install SimpleITK"
      ],
      "execution_count": null,
      "outputs": [
        {
          "output_type": "stream",
          "text": [
            "Collecting pydicom\n",
            "  Downloading pydicom-2.2.0-py3-none-any.whl (1.9 MB)\n",
            "\u001b[K     |████████████████████████████████| 1.9 MB 4.0 MB/s \n",
            "\u001b[?25hInstalling collected packages: pydicom\n",
            "Successfully installed pydicom-2.2.0\n",
            "Collecting albumentations==0.4.6\n",
            "  Downloading albumentations-0.4.6.tar.gz (117 kB)\n",
            "\u001b[K     |████████████████████████████████| 117 kB 4.0 MB/s \n",
            "\u001b[?25hRequirement already satisfied: numpy>=1.11.1 in /usr/local/lib/python3.7/dist-packages (from albumentations==0.4.6) (1.19.5)\n",
            "Requirement already satisfied: scipy in /usr/local/lib/python3.7/dist-packages (from albumentations==0.4.6) (1.4.1)\n",
            "Collecting imgaug>=0.4.0\n",
            "  Downloading imgaug-0.4.0-py2.py3-none-any.whl (948 kB)\n",
            "\u001b[K     |████████████████████████████████| 948 kB 17.8 MB/s \n",
            "\u001b[?25hRequirement already satisfied: PyYAML in /usr/local/lib/python3.7/dist-packages (from albumentations==0.4.6) (3.13)\n",
            "Requirement already satisfied: opencv-python>=4.1.1 in /usr/local/lib/python3.7/dist-packages (from albumentations==0.4.6) (4.1.2.30)\n",
            "Requirement already satisfied: six in /usr/local/lib/python3.7/dist-packages (from imgaug>=0.4.0->albumentations==0.4.6) (1.15.0)\n",
            "Requirement already satisfied: Shapely in /usr/local/lib/python3.7/dist-packages (from imgaug>=0.4.0->albumentations==0.4.6) (1.7.1)\n",
            "Requirement already satisfied: matplotlib in /usr/local/lib/python3.7/dist-packages (from imgaug>=0.4.0->albumentations==0.4.6) (3.2.2)\n",
            "Requirement already satisfied: Pillow in /usr/local/lib/python3.7/dist-packages (from imgaug>=0.4.0->albumentations==0.4.6) (7.1.2)\n",
            "Requirement already satisfied: imageio in /usr/local/lib/python3.7/dist-packages (from imgaug>=0.4.0->albumentations==0.4.6) (2.4.1)\n",
            "Requirement already satisfied: scikit-image>=0.14.2 in /usr/local/lib/python3.7/dist-packages (from imgaug>=0.4.0->albumentations==0.4.6) (0.16.2)\n",
            "Requirement already satisfied: networkx>=2.0 in /usr/local/lib/python3.7/dist-packages (from scikit-image>=0.14.2->imgaug>=0.4.0->albumentations==0.4.6) (2.5.1)\n",
            "Requirement already satisfied: PyWavelets>=0.4.0 in /usr/local/lib/python3.7/dist-packages (from scikit-image>=0.14.2->imgaug>=0.4.0->albumentations==0.4.6) (1.1.1)\n",
            "Requirement already satisfied: python-dateutil>=2.1 in /usr/local/lib/python3.7/dist-packages (from matplotlib->imgaug>=0.4.0->albumentations==0.4.6) (2.8.1)\n",
            "Requirement already satisfied: kiwisolver>=1.0.1 in /usr/local/lib/python3.7/dist-packages (from matplotlib->imgaug>=0.4.0->albumentations==0.4.6) (1.3.1)\n",
            "Requirement already satisfied: pyparsing!=2.0.4,!=2.1.2,!=2.1.6,>=2.0.1 in /usr/local/lib/python3.7/dist-packages (from matplotlib->imgaug>=0.4.0->albumentations==0.4.6) (2.4.7)\n",
            "Requirement already satisfied: cycler>=0.10 in /usr/local/lib/python3.7/dist-packages (from matplotlib->imgaug>=0.4.0->albumentations==0.4.6) (0.10.0)\n",
            "Requirement already satisfied: decorator<5,>=4.3 in /usr/local/lib/python3.7/dist-packages (from networkx>=2.0->scikit-image>=0.14.2->imgaug>=0.4.0->albumentations==0.4.6) (4.4.2)\n",
            "Building wheels for collected packages: albumentations\n",
            "  Building wheel for albumentations (setup.py) ... \u001b[?25l\u001b[?25hdone\n",
            "  Created wheel for albumentations: filename=albumentations-0.4.6-py3-none-any.whl size=65173 sha256=755b18d1c700c5bd08e8e3091e6c744632eb0bf085897b24a41c268760faac5a\n",
            "  Stored in directory: /root/.cache/pip/wheels/cf/34/0f/cb2a5f93561a181a4bcc84847ad6aaceea8b5a3127469616cc\n",
            "Successfully built albumentations\n",
            "Installing collected packages: imgaug, albumentations\n",
            "  Attempting uninstall: imgaug\n",
            "    Found existing installation: imgaug 0.2.9\n",
            "    Uninstalling imgaug-0.2.9:\n",
            "      Successfully uninstalled imgaug-0.2.9\n",
            "  Attempting uninstall: albumentations\n",
            "    Found existing installation: albumentations 0.1.12\n",
            "    Uninstalling albumentations-0.1.12:\n",
            "      Successfully uninstalled albumentations-0.1.12\n",
            "Successfully installed albumentations-0.4.6 imgaug-0.4.0\n",
            "Collecting nilearn\n",
            "  Downloading nilearn-0.8.0-py3-none-any.whl (4.9 MB)\n",
            "\u001b[K     |████████████████████████████████| 4.9 MB 4.2 MB/s \n",
            "\u001b[?25hRequirement already satisfied: nibabel>=2.5 in /usr/local/lib/python3.7/dist-packages (from nilearn) (3.0.2)\n",
            "Requirement already satisfied: numpy>=1.16 in /usr/local/lib/python3.7/dist-packages (from nilearn) (1.19.5)\n",
            "Requirement already satisfied: requests>=2 in /usr/local/lib/python3.7/dist-packages (from nilearn) (2.23.0)\n",
            "Requirement already satisfied: pandas>=0.24.0 in /usr/local/lib/python3.7/dist-packages (from nilearn) (1.1.5)\n",
            "Requirement already satisfied: scikit-learn>=0.21 in /usr/local/lib/python3.7/dist-packages (from nilearn) (0.22.2.post1)\n",
            "Requirement already satisfied: scipy>=1.2 in /usr/local/lib/python3.7/dist-packages (from nilearn) (1.4.1)\n",
            "Requirement already satisfied: joblib>=0.12 in /usr/local/lib/python3.7/dist-packages (from nilearn) (1.0.1)\n",
            "Requirement already satisfied: pytz>=2017.2 in /usr/local/lib/python3.7/dist-packages (from pandas>=0.24.0->nilearn) (2018.9)\n",
            "Requirement already satisfied: python-dateutil>=2.7.3 in /usr/local/lib/python3.7/dist-packages (from pandas>=0.24.0->nilearn) (2.8.1)\n",
            "Requirement already satisfied: six>=1.5 in /usr/local/lib/python3.7/dist-packages (from python-dateutil>=2.7.3->pandas>=0.24.0->nilearn) (1.15.0)\n",
            "Requirement already satisfied: certifi>=2017.4.17 in /usr/local/lib/python3.7/dist-packages (from requests>=2->nilearn) (2021.5.30)\n",
            "Requirement already satisfied: chardet<4,>=3.0.2 in /usr/local/lib/python3.7/dist-packages (from requests>=2->nilearn) (3.0.4)\n",
            "Requirement already satisfied: idna<3,>=2.5 in /usr/local/lib/python3.7/dist-packages (from requests>=2->nilearn) (2.10)\n",
            "Requirement already satisfied: urllib3!=1.25.0,!=1.25.1,<1.26,>=1.21.1 in /usr/local/lib/python3.7/dist-packages (from requests>=2->nilearn) (1.24.3)\n",
            "Installing collected packages: nilearn\n",
            "Successfully installed nilearn-0.8.0\n",
            "Collecting nipype\n",
            "  Downloading nipype-1.6.1-py3-none-any.whl (3.2 MB)\n",
            "\u001b[K     |████████████████████████████████| 3.2 MB 4.1 MB/s \n",
            "\u001b[?25hCollecting simplejson>=3.8.0\n",
            "  Downloading simplejson-3.17.3-cp37-cp37m-manylinux_2_5_x86_64.manylinux1_x86_64.manylinux_2_12_x86_64.manylinux2010_x86_64.whl (129 kB)\n",
            "\u001b[K     |████████████████████████████████| 129 kB 40.4 MB/s \n",
            "\u001b[?25hRequirement already satisfied: pydot>=1.2.3 in /usr/local/lib/python3.7/dist-packages (from nipype) (1.3.0)\n",
            "Requirement already satisfied: networkx>=2.0 in /usr/local/lib/python3.7/dist-packages (from nipype) (2.5.1)\n",
            "Requirement already satisfied: click>=6.6.0 in /usr/local/lib/python3.7/dist-packages (from nipype) (7.1.2)\n",
            "Requirement already satisfied: nibabel>=2.1.0 in /usr/local/lib/python3.7/dist-packages (from nipype) (3.0.2)\n",
            "Collecting rdflib>=5.0.0\n",
            "  Downloading rdflib-6.0.0-py3-none-any.whl (376 kB)\n",
            "\u001b[K     |████████████████████████████████| 376 kB 41.8 MB/s \n",
            "\u001b[?25hCollecting traits!=5.0,>=4.6\n",
            "  Downloading traits-6.2.0-cp37-cp37m-manylinux2010_x86_64.whl (5.1 MB)\n",
            "\u001b[K     |████████████████████████████████| 5.1 MB 46.6 MB/s \n",
            "\u001b[?25hCollecting etelemetry>=0.2.0\n",
            "  Downloading etelemetry-0.2.2-py3-none-any.whl (6.2 kB)\n",
            "Requirement already satisfied: scipy>=0.14 in /usr/local/lib/python3.7/dist-packages (from nipype) (1.4.1)\n",
            "Requirement already satisfied: python-dateutil>=2.2 in /usr/local/lib/python3.7/dist-packages (from nipype) (2.8.1)\n",
            "Requirement already satisfied: numpy>=1.15.3 in /usr/local/lib/python3.7/dist-packages (from nipype) (1.19.5)\n",
            "Collecting prov>=1.5.2\n",
            "  Downloading prov-2.0.0-py3-none-any.whl (421 kB)\n",
            "\u001b[K     |████████████████████████████████| 421 kB 51.3 MB/s \n",
            "\u001b[?25hRequirement already satisfied: filelock>=3.0.0 in /usr/local/lib/python3.7/dist-packages (from nipype) (3.0.12)\n",
            "Requirement already satisfied: packaging in /usr/local/lib/python3.7/dist-packages (from nipype) (21.0)\n",
            "Collecting ci-info>=0.2\n",
            "  Downloading ci_info-0.2.0-py3-none-any.whl (6.9 kB)\n",
            "Requirement already satisfied: requests in /usr/local/lib/python3.7/dist-packages (from etelemetry>=0.2.0->nipype) (2.23.0)\n",
            "Requirement already satisfied: decorator<5,>=4.3 in /usr/local/lib/python3.7/dist-packages (from networkx>=2.0->nipype) (4.4.2)\n",
            "Requirement already satisfied: lxml>=3.3.5 in /usr/local/lib/python3.7/dist-packages (from prov>=1.5.2->nipype) (4.2.6)\n",
            "Requirement already satisfied: pyparsing>=2.1.4 in /usr/local/lib/python3.7/dist-packages (from pydot>=1.2.3->nipype) (2.4.7)\n",
            "Requirement already satisfied: six>=1.5 in /usr/local/lib/python3.7/dist-packages (from python-dateutil>=2.2->nipype) (1.15.0)\n",
            "Collecting isodate\n",
            "  Downloading isodate-0.6.0-py2.py3-none-any.whl (45 kB)\n",
            "\u001b[K     |████████████████████████████████| 45 kB 3.2 MB/s \n",
            "\u001b[?25hRequirement already satisfied: setuptools in /usr/local/lib/python3.7/dist-packages (from rdflib>=5.0.0->nipype) (57.2.0)\n",
            "Requirement already satisfied: urllib3!=1.25.0,!=1.25.1,<1.26,>=1.21.1 in /usr/local/lib/python3.7/dist-packages (from requests->etelemetry>=0.2.0->nipype) (1.24.3)\n",
            "Requirement already satisfied: idna<3,>=2.5 in /usr/local/lib/python3.7/dist-packages (from requests->etelemetry>=0.2.0->nipype) (2.10)\n",
            "Requirement already satisfied: chardet<4,>=3.0.2 in /usr/local/lib/python3.7/dist-packages (from requests->etelemetry>=0.2.0->nipype) (3.0.4)\n",
            "Requirement already satisfied: certifi>=2017.4.17 in /usr/local/lib/python3.7/dist-packages (from requests->etelemetry>=0.2.0->nipype) (2021.5.30)\n",
            "Installing collected packages: isodate, rdflib, ci-info, traits, simplejson, prov, etelemetry, nipype\n",
            "Successfully installed ci-info-0.2.0 etelemetry-0.2.2 isodate-0.6.0 nipype-1.6.1 prov-2.0.0 rdflib-6.0.0 simplejson-3.17.3 traits-6.2.0\n",
            "Requirement already satisfied: gdown in /usr/local/lib/python3.7/dist-packages (3.6.4)\n",
            "Requirement already satisfied: tqdm in /usr/local/lib/python3.7/dist-packages (from gdown) (4.41.1)\n",
            "Requirement already satisfied: requests in /usr/local/lib/python3.7/dist-packages (from gdown) (2.23.0)\n",
            "Requirement already satisfied: six in /usr/local/lib/python3.7/dist-packages (from gdown) (1.15.0)\n",
            "Requirement already satisfied: idna<3,>=2.5 in /usr/local/lib/python3.7/dist-packages (from requests->gdown) (2.10)\n",
            "Requirement already satisfied: certifi>=2017.4.17 in /usr/local/lib/python3.7/dist-packages (from requests->gdown) (2021.5.30)\n",
            "Requirement already satisfied: chardet<4,>=3.0.2 in /usr/local/lib/python3.7/dist-packages (from requests->gdown) (3.0.4)\n",
            "Requirement already satisfied: urllib3!=1.25.0,!=1.25.1,<1.26,>=1.21.1 in /usr/local/lib/python3.7/dist-packages (from requests->gdown) (1.24.3)\n",
            "Collecting SimpleITK\n",
            "  Downloading SimpleITK-2.1.0-cp37-cp37m-manylinux_2_12_x86_64.manylinux2010_x86_64.whl (48.4 MB)\n",
            "\u001b[K     |████████████████████████████████| 48.4 MB 32 kB/s \n",
            "\u001b[?25hInstalling collected packages: SimpleITK\n",
            "Successfully installed SimpleITK-2.1.0\n"
          ],
          "name": "stdout"
        }
      ]
    },
    {
      "cell_type": "markdown",
      "metadata": {
        "id": "nDY2rP45lc7A"
      },
      "source": [
        "##Basic Imports"
      ]
    },
    {
      "cell_type": "code",
      "metadata": {
        "id": "B1swbjKCmEjY"
      },
      "source": [
        "from matplotlib import pyplot as plt \n",
        "import numpy as np\n",
        "import pandas as pd\n",
        "import os \n",
        "from os import environ\n",
        "import time\n",
        "import cv2\n",
        "from google.colab.patches import cv2_imshow\n",
        "import torch\n",
        "import zipfile\n",
        "from PIL import Image\n",
        "import glob\n",
        "import shutil\n",
        "import gdown\n",
        "import random\n",
        "from imutils import paths\n",
        "from tqdm.notebook import tqdm\n",
        "from matplotlib import colors\n",
        "import seaborn as sns \n",
        "%matplotlib notebook\n",
        "%matplotlib inline\n",
        "from collections import defaultdict\n",
        "import copy\n",
        "import pydicom \n",
        "from pydicom.data import get_testdata_files"
      ],
      "execution_count": null,
      "outputs": []
    },
    {
      "cell_type": "markdown",
      "metadata": {
        "id": "c0asWlgsli1k"
      },
      "source": [
        "##SKLearn & SKImage"
      ]
    },
    {
      "cell_type": "code",
      "metadata": {
        "id": "Pfnsp59MmF8n"
      },
      "source": [
        "from sklearn.model_selection import train_test_split\n",
        "from sklearn.metrics import roc_auc_score, roc_curve\n",
        "from sklearn.model_selection import StratifiedKFold\n",
        "from skimage.io import imread \n",
        "from skimage.transform import resize \n",
        "from skimage.morphology import binary_closing, binary_erosion, binary_dilation, binary_opening \n",
        "from skimage.filters import gaussian\n",
        "from skimage.data import camera \n",
        "from sklearn.metrics import confusion_matrix\n",
        "from sklearn.metrics import accuracy_score, roc_curve, auc, roc_auc_score\n",
        "from sklearn.metrics import classification_report\n",
        "from skimage.io import imread\n",
        "from skimage.transform import resize,rescale\n",
        "from skimage.morphology import binary_closing, binary_erosion, binary_dilation,binary_opening\n",
        "from skimage.filters import gaussian\n",
        "from skimage.color import rgb2gray"
      ],
      "execution_count": null,
      "outputs": []
    },
    {
      "cell_type": "markdown",
      "metadata": {
        "id": "uhaNjcKYle_Y"
      },
      "source": [
        "##Keras & TensorFlow"
      ]
    },
    {
      "cell_type": "code",
      "metadata": {
        "id": "JInrnsaetcBk"
      },
      "source": [
        "from keras.preprocessing.image import img_to_array\n",
        "from keras import backend as K\n",
        "from keras.layers.convolutional import Conv2D\n",
        "from keras.layers.convolutional import MaxPooling2D\n",
        "from keras.layers.core import Activation, Dropout\n",
        "from keras.layers.core import Dense\n",
        "from keras.layers.core import Flatten\n",
        "from keras.models import Sequential\n",
        "from keras.callbacks import ModelCheckpoint, EarlyStopping\n",
        "from keras.optimizers import SGD\n",
        "from keras.preprocessing.image import ImageDataGenerator\n",
        "from tensorflow.keras.utils import to_categorical\n",
        "from keras.models import load_model "
      ],
      "execution_count": null,
      "outputs": []
    },
    {
      "cell_type": "code",
      "metadata": {
        "id": "42mFnGflulLD"
      },
      "source": [
        "import tensorflow as tf\n",
        "from tensorflow import keras\n",
        "from tensorflow.keras import layers "
      ],
      "execution_count": null,
      "outputs": []
    },
    {
      "cell_type": "markdown",
      "metadata": {
        "id": "94EJOI9UlgkT"
      },
      "source": [
        "##Pytorch"
      ]
    },
    {
      "cell_type": "code",
      "metadata": {
        "id": "MsHnCIPkpIAy"
      },
      "source": [
        "import torch\n",
        "from torch.utils.data import Dataset\n",
        "from torch.utils.data import DataLoader\n",
        "import torchvision.models as models\n",
        "import torch.backends.cudnn as cudnn\n",
        "import torch.nn as nn\n",
        "import torch.nn.functional as F\n",
        "import torch.optim as optim\n",
        "from torchvision import datasets, transforms\n",
        "from torch.autograd import Variable\n",
        "from torchvision.utils import save_image\n",
        "import albumentations"
      ],
      "execution_count": null,
      "outputs": []
    },
    {
      "cell_type": "markdown",
      "metadata": {
        "id": "jM8flCIgt72X"
      },
      "source": [
        "##NiLearn & NiPype"
      ]
    },
    {
      "cell_type": "code",
      "metadata": {
        "id": "TLyRUbxdt-78",
        "colab": {
          "base_uri": "https://localhost:8080/"
        },
        "outputId": "d7cd53b5-e269-4bb2-c71c-3dd96a66ce64"
      },
      "source": [
        "import nibabel as nib\n",
        "import nilearn\n",
        "\n",
        "from nilearn import plotting\n",
        "from nilearn import datasets\n",
        "\n",
        "from nipype.interfaces.ants import N4BiasFieldCorrection\n",
        "from nilearn import plotting \n",
        "import nipype.interfaces.fsl as fsl"
      ],
      "execution_count": null,
      "outputs": [
        {
          "output_type": "stream",
          "text": [
            "/usr/local/lib/python3.7/dist-packages/nilearn/datasets/__init__.py:89: FutureWarning: Fetchers from the nilearn.datasets module will be updated in version 0.9 to return python strings instead of bytes and Pandas dataframes instead of Numpy arrays.\n",
            "  \"Numpy arrays.\", FutureWarning)\n"
          ],
          "name": "stderr"
        }
      ]
    },
    {
      "cell_type": "markdown",
      "metadata": {
        "id": "OXgzFtTqlrKR"
      },
      "source": [
        "#Handy notebook links:\n",
        "\n",
        "2d - data prep - https://colab.research.google.com/drive/1r9DdO13IwsSkacvymXcFH3AWeONSIG5w#scrollTo=W7HipbJ8h5_I\n",
        "\n",
        "2d - custom cnn - https://colab.research.google.com/drive/1vSoN4UHBD0hys6mmHkgPe6xxmi7bVt2q\n",
        "\n",
        "2d - unet - https://colab.research.google.com/drive/1P-FUcFjD-xiP_omM4VDs_mdVeUNHOMac#scrollTo=PcHT--E01eq4\n",
        "\n",
        "3d - custom cnn/ outcome of ct - https://colab.research.google.com/drive/1fUwAJJdRdJa1nsmw6jNKQM2jxo5AEQzL\n",
        "\n",
        "3d mri basics - https://colab.research.google.com/drive/1fre6rkhFmR83rxpg8VhsENnJ65AiljOT"
      ]
    },
    {
      "cell_type": "code",
      "metadata": {
        "id": "kJMl7EiGgzC2",
        "colab": {
          "base_uri": "https://localhost:8080/"
        },
        "outputId": "f884de46-ba36-4e62-cf12-9252fcd9fef5"
      },
      "source": [
        "from google.colab import drive\n",
        "drive.mount('/content/drive')"
      ],
      "execution_count": null,
      "outputs": [
        {
          "output_type": "stream",
          "text": [
            "Mounted at /content/drive\n"
          ],
          "name": "stdout"
        }
      ]
    },
    {
      "cell_type": "code",
      "metadata": {
        "id": "PNQVyirHwkku",
        "colab": {
          "base_uri": "https://localhost:8080/"
        },
        "outputId": "1e15856d-80c8-4490-e304-98ef8e7fcf87"
      },
      "source": [
        "os.chdir('/content/drive/MyDrive/MedHacks_Drive/Hackathon/AlphaTauDataset') \n",
        "!unzip -d '/content/train/' train0.zip \n",
        "# !unzip -d '/content/' verifier_scraped_data.zip \n",
        "os.chdir('/content/train')"
      ],
      "execution_count": null,
      "outputs": [
        {
          "output_type": "stream",
          "text": [
            "Archive:  train0.zip\n",
            "   creating: /content/train/001/images/\n",
            "  inflating: /content/train/001/images/001.npy  \n",
            "   creating: /content/train/001/masks/\n",
            "  inflating: /content/train/001/masks/mask.npy  \n",
            "  inflating: /content/train/001/seeds.csv  \n",
            "  inflating: /content/train/001/seeds.npy  \n",
            "   creating: /content/train/002/images/\n",
            "  inflating: /content/train/002/images/002.npy  \n",
            "   creating: /content/train/002/masks/\n",
            "  inflating: /content/train/002/masks/mask.npy  \n",
            "  inflating: /content/train/002/seeds.csv  \n",
            "  inflating: /content/train/002/seeds.npy  \n",
            "   creating: /content/train/003/images/\n",
            "  inflating: /content/train/003/images/003.npy  \n",
            "   creating: /content/train/003/masks/\n",
            "  inflating: /content/train/003/masks/mask.npy  \n",
            "  inflating: /content/train/003/seeds.csv  \n",
            "  inflating: /content/train/003/seeds.npy  \n",
            "   creating: /content/train/004/images/\n",
            "  inflating: /content/train/004/images/004.npy  \n",
            "   creating: /content/train/004/masks/\n",
            "  inflating: /content/train/004/masks/mask.npy  \n",
            "  inflating: /content/train/004/seeds.csv  \n",
            "  inflating: /content/train/004/seeds.npy  \n",
            "   creating: /content/train/005/images/\n",
            "  inflating: /content/train/005/images/005.npy  \n",
            "   creating: /content/train/005/masks/\n",
            "  inflating: /content/train/005/masks/mask.npy  \n",
            "  inflating: /content/train/005/seeds.csv  \n",
            "  inflating: /content/train/005/seeds.npy  \n",
            "   creating: /content/train/006/images/\n",
            "  inflating: /content/train/006/images/006.npy  \n",
            "   creating: /content/train/006/masks/\n",
            "  inflating: /content/train/006/masks/mask.npy  \n",
            "  inflating: /content/train/006/seeds.csv  \n",
            "  inflating: /content/train/006/seeds.npy  \n",
            "   creating: /content/train/007/images/\n",
            "  inflating: /content/train/007/images/007.npy  \n",
            "   creating: /content/train/007/masks/\n",
            "  inflating: /content/train/007/masks/mask.npy  \n",
            "  inflating: /content/train/007/seeds.csv  \n",
            "  inflating: /content/train/007/seeds.npy  \n",
            "   creating: /content/train/008/images/\n",
            "  inflating: /content/train/008/images/008.npy  \n",
            "   creating: /content/train/008/masks/\n",
            "  inflating: /content/train/008/masks/mask.npy  \n",
            "  inflating: /content/train/008/seeds.csv  \n",
            "  inflating: /content/train/008/seeds.npy  \n",
            "   creating: /content/train/010/images/\n",
            "  inflating: /content/train/010/images/010.npy  \n",
            "   creating: /content/train/010/masks/\n",
            "  inflating: /content/train/010/masks/mask.npy  \n",
            "  inflating: /content/train/010/seeds.csv  \n",
            "  inflating: /content/train/010/seeds.npy  \n",
            "   creating: /content/train/011/images/\n",
            "  inflating: /content/train/011/images/011.npy  \n",
            "   creating: /content/train/011/masks/\n",
            "  inflating: /content/train/011/masks/mask.npy  \n",
            "  inflating: /content/train/011/seeds.csv  \n",
            "  inflating: /content/train/011/seeds.npy  \n",
            "   creating: /content/train/012/images/\n",
            "  inflating: /content/train/012/images/012.npy  \n",
            "   creating: /content/train/012/masks/\n",
            "  inflating: /content/train/012/masks/mask.npy  \n",
            "  inflating: /content/train/012/seeds.csv  \n",
            "  inflating: /content/train/012/seeds.npy  \n",
            "   creating: /content/train/014/images/\n",
            "  inflating: /content/train/014/images/014.npy  \n",
            "   creating: /content/train/014/masks/\n",
            "  inflating: /content/train/014/masks/mask.npy  \n",
            "  inflating: /content/train/014/seeds.csv  \n",
            "  inflating: /content/train/014/seeds.npy  \n",
            "   creating: /content/train/016/images/\n",
            "  inflating: /content/train/016/images/016.npy  \n",
            "   creating: /content/train/016/masks/\n",
            "  inflating: /content/train/016/masks/mask.npy  \n",
            "  inflating: /content/train/016/seeds.csv  \n",
            "  inflating: /content/train/016/seeds.npy  \n",
            "   creating: /content/train/018/images/\n",
            "  inflating: /content/train/018/images/018.npy  \n",
            "   creating: /content/train/018/masks/\n",
            "  inflating: /content/train/018/masks/mask.npy  \n",
            "  inflating: /content/train/018/seeds.csv  \n",
            "  inflating: /content/train/018/seeds.npy  \n",
            "   creating: /content/train/019/images/\n",
            "  inflating: /content/train/019/images/019.npy  \n",
            "   creating: /content/train/019/masks/\n",
            "  inflating: /content/train/019/masks/mask.npy  \n",
            "  inflating: /content/train/019/seeds.csv  \n",
            "  inflating: /content/train/019/seeds.npy  \n",
            "   creating: /content/train/020/images/\n",
            "  inflating: /content/train/020/images/020.npy  \n",
            "   creating: /content/train/020/masks/\n",
            "  inflating: /content/train/020/masks/mask.npy  \n",
            "  inflating: /content/train/020/seeds.csv  \n",
            "  inflating: /content/train/020/seeds.npy  \n",
            "   creating: /content/train/022/images/\n",
            "  inflating: /content/train/022/images/022.npy  \n",
            "   creating: /content/train/022/masks/\n",
            "  inflating: /content/train/022/masks/mask.npy  \n",
            "  inflating: /content/train/022/seeds.csv  \n",
            "  inflating: /content/train/022/seeds.npy  \n",
            "   creating: /content/train/023/images/\n",
            "  inflating: /content/train/023/images/023.npy  \n",
            "   creating: /content/train/023/masks/\n",
            "  inflating: /content/train/023/masks/mask.npy  \n",
            "  inflating: /content/train/023/seeds.csv  \n",
            "  inflating: /content/train/023/seeds.npy  \n",
            "   creating: /content/train/024/images/\n",
            "  inflating: /content/train/024/images/024.npy  \n",
            "   creating: /content/train/024/masks/\n",
            "  inflating: /content/train/024/masks/mask.npy  \n",
            "  inflating: /content/train/024/seeds.csv  \n",
            "  inflating: /content/train/024/seeds.npy  \n",
            "   creating: /content/train/025/images/\n",
            "  inflating: /content/train/025/images/025.npy  \n",
            "   creating: /content/train/025/masks/\n",
            "  inflating: /content/train/025/masks/mask.npy  \n",
            "  inflating: /content/train/025/seeds.csv  \n",
            "  inflating: /content/train/025/seeds.npy  \n",
            "   creating: /content/train/026/images/\n",
            "  inflating: /content/train/026/images/026.npy  \n",
            "   creating: /content/train/026/masks/\n",
            "  inflating: /content/train/026/masks/mask.npy  \n",
            "  inflating: /content/train/026/seeds.csv  \n",
            "  inflating: /content/train/026/seeds.npy  \n",
            "   creating: /content/train/028/images/\n",
            "  inflating: /content/train/028/images/028.npy  \n",
            "   creating: /content/train/028/masks/\n",
            "  inflating: /content/train/028/masks/mask.npy  \n",
            "  inflating: /content/train/028/seeds.csv  \n",
            "  inflating: /content/train/028/seeds.npy  \n",
            "   creating: /content/train/029/images/\n",
            "  inflating: /content/train/029/images/029.npy  \n",
            "   creating: /content/train/029/masks/\n",
            "  inflating: /content/train/029/masks/mask.npy  \n",
            "  inflating: /content/train/029/seeds.csv  \n",
            "  inflating: /content/train/029/seeds.npy  \n",
            "   creating: /content/train/030/images/\n",
            "  inflating: /content/train/030/images/030.npy  \n",
            "   creating: /content/train/030/masks/\n",
            "  inflating: /content/train/030/masks/mask.npy  \n",
            "  inflating: /content/train/030/seeds.csv  \n",
            "  inflating: /content/train/030/seeds.npy  \n",
            "   creating: /content/train/031/images/\n",
            "  inflating: /content/train/031/images/031.npy  \n",
            "   creating: /content/train/031/masks/\n",
            "  inflating: /content/train/031/masks/mask.npy  \n",
            "  inflating: /content/train/031/seeds.csv  \n",
            "  inflating: /content/train/031/seeds.npy  \n",
            "   creating: /content/train/032/images/\n",
            "  inflating: /content/train/032/images/032.npy  \n",
            "   creating: /content/train/032/masks/\n",
            "  inflating: /content/train/032/masks/mask.npy  \n",
            "  inflating: /content/train/032/seeds.csv  \n",
            "  inflating: /content/train/032/seeds.npy  \n",
            "   creating: /content/train/033/images/\n",
            "  inflating: /content/train/033/images/033.npy  \n",
            "   creating: /content/train/033/masks/\n",
            "  inflating: /content/train/033/masks/mask.npy  \n",
            "  inflating: /content/train/033/seeds.csv  \n",
            "  inflating: /content/train/033/seeds.npy  \n",
            "   creating: /content/train/034/images/\n",
            "  inflating: /content/train/034/images/034.npy  \n",
            "   creating: /content/train/034/masks/\n",
            "  inflating: /content/train/034/masks/mask.npy  \n",
            "  inflating: /content/train/034/seeds.csv  \n",
            "  inflating: /content/train/034/seeds.npy  \n",
            "   creating: /content/train/035/images/\n",
            "  inflating: /content/train/035/images/035.npy  \n",
            "   creating: /content/train/035/masks/\n",
            "  inflating: /content/train/035/masks/mask.npy  \n",
            "  inflating: /content/train/035/seeds.csv  \n",
            "  inflating: /content/train/035/seeds.npy  \n",
            "   creating: /content/train/036/images/\n",
            "  inflating: /content/train/036/images/036.npy  \n",
            "   creating: /content/train/036/masks/\n",
            "  inflating: /content/train/036/masks/mask.npy  \n",
            "  inflating: /content/train/036/seeds.csv  \n",
            "  inflating: /content/train/036/seeds.npy  \n",
            "   creating: /content/train/037/images/\n",
            "  inflating: /content/train/037/images/037.npy  \n",
            "   creating: /content/train/037/masks/\n",
            "  inflating: /content/train/037/masks/mask.npy  \n",
            "  inflating: /content/train/037/seeds.csv  \n",
            "  inflating: /content/train/037/seeds.npy  \n",
            "   creating: /content/train/038/images/\n",
            "  inflating: /content/train/038/images/038.npy  \n",
            "   creating: /content/train/038/masks/\n",
            "  inflating: /content/train/038/masks/mask.npy  \n",
            "  inflating: /content/train/038/seeds.csv  \n",
            "  inflating: /content/train/038/seeds.npy  \n",
            "   creating: /content/train/041/images/\n",
            "  inflating: /content/train/041/images/041.npy  \n",
            "   creating: /content/train/041/masks/\n",
            "  inflating: /content/train/041/masks/mask.npy  \n",
            "  inflating: /content/train/041/seeds.csv  \n",
            "  inflating: /content/train/041/seeds.npy  \n",
            "   creating: /content/train/042/images/\n",
            "  inflating: /content/train/042/images/042.npy  \n",
            "   creating: /content/train/042/masks/\n",
            "  inflating: /content/train/042/masks/mask.npy  \n",
            "  inflating: /content/train/042/seeds.csv  \n",
            "  inflating: /content/train/042/seeds.npy  \n",
            "   creating: /content/train/044/images/\n",
            "  inflating: /content/train/044/images/044.npy  \n",
            "   creating: /content/train/044/masks/\n",
            "  inflating: /content/train/044/masks/mask.npy  \n",
            "  inflating: /content/train/044/seeds.csv  \n",
            "  inflating: /content/train/044/seeds.npy  \n",
            "   creating: /content/train/046/images/\n",
            "  inflating: /content/train/046/images/046.npy  \n",
            "   creating: /content/train/046/masks/\n",
            "  inflating: /content/train/046/masks/mask.npy  \n",
            "  inflating: /content/train/046/seeds.csv  \n",
            "  inflating: /content/train/046/seeds.npy  \n",
            "   creating: /content/train/047/images/\n",
            "  inflating: /content/train/047/images/047.npy  \n",
            "   creating: /content/train/047/masks/\n",
            "  inflating: /content/train/047/masks/mask.npy  \n",
            "  inflating: /content/train/047/seeds.csv  \n",
            "  inflating: /content/train/047/seeds.npy  \n",
            "   creating: /content/train/048/images/\n",
            "  inflating: /content/train/048/images/048.npy  \n",
            "   creating: /content/train/048/masks/\n",
            "  inflating: /content/train/048/masks/mask.npy  \n",
            "  inflating: /content/train/048/seeds.csv  \n",
            "  inflating: /content/train/048/seeds.npy  \n",
            "   creating: /content/train/050/images/\n",
            "  inflating: /content/train/050/images/050.npy  \n",
            "   creating: /content/train/050/masks/\n",
            "  inflating: /content/train/050/masks/mask.npy  \n",
            "  inflating: /content/train/050/seeds.csv  \n",
            "  inflating: /content/train/050/seeds.npy  \n",
            "   creating: /content/train/052/images/\n",
            "  inflating: /content/train/052/images/052.npy  \n",
            "   creating: /content/train/052/masks/\n",
            "  inflating: /content/train/052/masks/mask.npy  \n",
            "  inflating: /content/train/052/seeds.csv  \n",
            "  inflating: /content/train/052/seeds.npy  \n"
          ],
          "name": "stdout"
        }
      ]
    },
    {
      "cell_type": "code",
      "metadata": {
        "id": "6Hq2gldREYOv"
      },
      "source": [
        ""
      ],
      "execution_count": null,
      "outputs": []
    },
    {
      "cell_type": "code",
      "metadata": {
        "id": "8ZwCBCVrC5sf"
      },
      "source": [
        "def displayImgAndMask(idx):\n",
        "    #train_data_path = os.path.join(data_path,'train')\n",
        "    imageid = os.listdir(data_path)\n",
        "    train_path = os.path.join(data_path,imageid[idx])\n",
        "    img_path_main = os.path.join(train_path,'images')\n",
        "    img_path = os.path.join(img_path_main,str(imageid[idx])+'.npy')\n",
        "    masks_path_main = os.path.join(train_path,'masks')\n",
        "    mask_path = os.path.join(masks_path_main,'mask.npy')\n",
        "    seedcsv = os.path.join(train_path,'seeds.csv')\n",
        "    seednpy = os.path.join(train_path,'seeds.npy')\n",
        "    return img_path, mask_path, seednpy, seedcsv"
      ],
      "execution_count": null,
      "outputs": []
    },
    {
      "cell_type": "code",
      "metadata": {
        "colab": {
          "base_uri": "https://localhost:8080/"
        },
        "id": "TXjFANoEEgvl",
        "outputId": "3cc6224f-2239-4559-b340-1152a25a5cd1"
      },
      "source": [
        "displayImgAndMask(1)"
      ],
      "execution_count": null,
      "outputs": [
        {
          "output_type": "execute_result",
          "data": {
            "text/plain": [
              "('/content/train/032/images/032.npy',\n",
              " '/content/train/032/masks/mask.npy',\n",
              " '/content/train/032/seeds.npy',\n",
              " '/content/train/032/seeds.csv')"
            ]
          },
          "metadata": {
            "tags": []
          },
          "execution_count": 49
        }
      ]
    },
    {
      "cell_type": "code",
      "metadata": {
        "id": "R0ZUrHR1IUnO"
      },
      "source": [
        "def load_train_data(n):\n",
        "    impath = displayImgAndMask(n)[0]\n",
        "    maskpath = displayImgAndMask(n)[0]\n",
        "    snp = displayImgAndMask(n)[0]\n",
        "    imgs_train = np.load(impath)\n",
        "    imgs_train_mask = np.load(maskpath)\n",
        "    seed_train = np.load(snp)\n",
        "    return imgs_train,imgs_train_mask, seed_train"
      ],
      "execution_count": null,
      "outputs": []
    },
    {
      "cell_type": "code",
      "metadata": {
        "id": "UmkySwjFKdnx"
      },
      "source": [
        "imgs_train,imgs_train_mask, seed_train = load_train_data(1)"
      ],
      "execution_count": null,
      "outputs": []
    },
    {
      "cell_type": "code",
      "metadata": {
        "colab": {
          "base_uri": "https://localhost:8080/"
        },
        "id": "ZACLBfZ_Kv3k",
        "outputId": "1f3b61f9-1cb1-4537-de25-69df98b3de17"
      },
      "source": [
        "imgs_train.shape"
      ],
      "execution_count": null,
      "outputs": [
        {
          "output_type": "execute_result",
          "data": {
            "text/plain": [
              "(758, 758, 41)"
            ]
          },
          "metadata": {
            "tags": []
          },
          "execution_count": 52
        }
      ]
    },
    {
      "cell_type": "code",
      "metadata": {
        "colab": {
          "base_uri": "https://localhost:8080/"
        },
        "id": "4DjmcL4-K248",
        "outputId": "962ce960-af1b-4d7d-9b77-9f263326233d"
      },
      "source": [
        "imgs_train_mask.shape"
      ],
      "execution_count": null,
      "outputs": [
        {
          "output_type": "execute_result",
          "data": {
            "text/plain": [
              "(758, 758, 41)"
            ]
          },
          "metadata": {
            "tags": []
          },
          "execution_count": 53
        }
      ]
    },
    {
      "cell_type": "code",
      "metadata": {
        "colab": {
          "base_uri": "https://localhost:8080/"
        },
        "id": "5BccBafzK7uP",
        "outputId": "a0ce98b4-f90c-4e3d-f68d-4e7fbef5ac1f"
      },
      "source": [
        "seed_train.shape"
      ],
      "execution_count": null,
      "outputs": [
        {
          "output_type": "execute_result",
          "data": {
            "text/plain": [
              "(8, 2, 3)"
            ]
          },
          "metadata": {
            "tags": []
          },
          "execution_count": 42
        }
      ]
    },
    {
      "cell_type": "code",
      "metadata": {
        "id": "xyuZ8OlLCqLz"
      },
      "source": [
        "count = len(os.listdir('/content/drive/MyDrive/MedHacks_Drive/Hackathon/AlphaTauDataset/training'))\n",
        "imgs_train = []\n",
        "imgs_train_mask = []\n",
        "seed_train = []\n",
        "data_path = '/content/drive/MyDrive/MedHacks_Drive/Hackathon/AlphaTauDataset/training/'\n",
        "\n",
        "for i in range(count):\n",
        "  imgs_train1 ,imgs_train_mask1 , seed_train1 = load_train_data(i)\n",
        "  imgs_train.append(imgs_train1)\n",
        "  imgs_train_mask.append(imgs_train_mask1)\n",
        "  seed_train.append(seed_train1)"
      ],
      "execution_count": null,
      "outputs": []
    },
    {
      "cell_type": "code",
      "metadata": {
        "id": "AGDR-0H2gkzM"
      },
      "source": [
        "import nibabel as nib\n",
        "from scipy import ndimage"
      ],
      "execution_count": null,
      "outputs": []
    },
    {
      "cell_type": "code",
      "metadata": {
        "id": "ZHLPAaGfflAN"
      },
      "source": [
        "def resize_volume(img):\n",
        "    \"\"\"Resize across z-axis\"\"\"\n",
        "    # Set the desired depth\n",
        "    desired_depth = 41\n",
        "    desired_width = 512\n",
        "    desired_height = 512\n",
        "    # Get current depth\n",
        "    current_depth = img.shape[-1]\n",
        "    current_width = img.shape[0]\n",
        "    current_height = img.shape[1]\n",
        "    # Compute depth factor\n",
        "    depth = current_depth / desired_depth\n",
        "    width = current_width / desired_width\n",
        "    height = current_height / desired_height\n",
        "    depth_factor = 1 / depth\n",
        "    width_factor = 1 / width\n",
        "    height_factor = 1 / height\n",
        "    # Rotate\n",
        "    img = ndimage.rotate(img, 0, reshape=False)\n",
        "    # Resize across z-axis\n",
        "    img = ndimage.zoom(img, (width_factor, height_factor, depth_factor), order=1)\n",
        "    return img"
      ],
      "execution_count": null,
      "outputs": []
    },
    {
      "cell_type": "code",
      "metadata": {
        "id": "ETLq-2oMf4mt",
        "colab": {
          "base_uri": "https://localhost:8080/",
          "height": 300
        },
        "outputId": "7bdea3a4-04e1-41b2-956a-c2a9b4d107ac"
      },
      "source": [
        "newarray = resize_volume(imgs_train)\n",
        "newmask = resize_volume(imgs_train_mask)"
      ],
      "execution_count": null,
      "outputs": [
        {
          "output_type": "error",
          "ename": "AttributeError",
          "evalue": "ignored",
          "traceback": [
            "\u001b[0;31m---------------------------------------------------------------------------\u001b[0m",
            "\u001b[0;31mAttributeError\u001b[0m                            Traceback (most recent call last)",
            "\u001b[0;32m<ipython-input-10-9692beac092e>\u001b[0m in \u001b[0;36m<module>\u001b[0;34m()\u001b[0m\n\u001b[0;32m----> 1\u001b[0;31m \u001b[0mnewarray\u001b[0m \u001b[0;34m=\u001b[0m \u001b[0mresize_volume\u001b[0m\u001b[0;34m(\u001b[0m\u001b[0mimgs_train\u001b[0m\u001b[0;34m)\u001b[0m\u001b[0;34m\u001b[0m\u001b[0;34m\u001b[0m\u001b[0m\n\u001b[0m\u001b[1;32m      2\u001b[0m \u001b[0mnewmask\u001b[0m \u001b[0;34m=\u001b[0m \u001b[0mresize_volume\u001b[0m\u001b[0;34m(\u001b[0m\u001b[0mimgs_train_mask\u001b[0m\u001b[0;34m)\u001b[0m\u001b[0;34m\u001b[0m\u001b[0;34m\u001b[0m\u001b[0m\n",
            "\u001b[0;32m<ipython-input-9-a5d3e5f7e18c>\u001b[0m in \u001b[0;36mresize_volume\u001b[0;34m(img)\u001b[0m\n\u001b[1;32m      6\u001b[0m     \u001b[0mdesired_height\u001b[0m \u001b[0;34m=\u001b[0m \u001b[0;36m512\u001b[0m\u001b[0;34m\u001b[0m\u001b[0;34m\u001b[0m\u001b[0m\n\u001b[1;32m      7\u001b[0m     \u001b[0;31m# Get current depth\u001b[0m\u001b[0;34m\u001b[0m\u001b[0;34m\u001b[0m\u001b[0;34m\u001b[0m\u001b[0m\n\u001b[0;32m----> 8\u001b[0;31m     \u001b[0mcurrent_depth\u001b[0m \u001b[0;34m=\u001b[0m \u001b[0mimg\u001b[0m\u001b[0;34m.\u001b[0m\u001b[0mshape\u001b[0m\u001b[0;34m[\u001b[0m\u001b[0;34m-\u001b[0m\u001b[0;36m1\u001b[0m\u001b[0;34m]\u001b[0m\u001b[0;34m\u001b[0m\u001b[0;34m\u001b[0m\u001b[0m\n\u001b[0m\u001b[1;32m      9\u001b[0m     \u001b[0mcurrent_width\u001b[0m \u001b[0;34m=\u001b[0m \u001b[0mimg\u001b[0m\u001b[0;34m.\u001b[0m\u001b[0mshape\u001b[0m\u001b[0;34m[\u001b[0m\u001b[0;36m0\u001b[0m\u001b[0;34m]\u001b[0m\u001b[0;34m\u001b[0m\u001b[0;34m\u001b[0m\u001b[0m\n\u001b[1;32m     10\u001b[0m     \u001b[0mcurrent_height\u001b[0m \u001b[0;34m=\u001b[0m \u001b[0mimg\u001b[0m\u001b[0;34m.\u001b[0m\u001b[0mshape\u001b[0m\u001b[0;34m[\u001b[0m\u001b[0;36m1\u001b[0m\u001b[0;34m]\u001b[0m\u001b[0;34m\u001b[0m\u001b[0;34m\u001b[0m\u001b[0m\n",
            "\u001b[0;31mAttributeError\u001b[0m: 'list' object has no attribute 'shape'"
          ]
        }
      ]
    },
    {
      "cell_type": "code",
      "metadata": {
        "id": "qPs5E6f7DR4D"
      },
      "source": [
        "## DATA CLEANING PIPELINE:\n",
        "\n",
        "def displayImgAndMask(idx):\n",
        "    #train_data_path = os.path.join(data_path,'train')\n",
        "    imageid = os.listdir(data_path)\n",
        "    train_path = os.path.join(data_path,imageid[idx])\n",
        "    img_path_main = os.path.join(train_path,'images')\n",
        "    img_path = os.path.join(img_path_main,str(imageid[idx])+'.npy')\n",
        "    masks_path_main = os.path.join(train_path,'masks')\n",
        "    mask_path = os.path.join(masks_path_main,'mask.npy')\n",
        "    seedcsv = os.path.join(train_path,'seeds.csv')\n",
        "    seednpy = os.path.join(train_path,'seeds.npy')\n",
        "    return img_path, mask_path, seednpy, seedcsv\n",
        "\n",
        "def load_train_data(n):\n",
        "    impath = displayImgAndMask(n)[0]\n",
        "    maskpath = displayImgAndMask(n)[0]\n",
        "    snp = displayImgAndMask(n)[0]\n",
        "    imgs_train = np.load(impath)\n",
        "    imgs_train_mask = np.load(maskpath)\n",
        "    seed_train = np.load(snp)\n",
        "    return imgs_train,imgs_train_mask, seed_train\n",
        "\n",
        "def resize_volume(img):\n",
        "    depth = img.shape[-1] / 41\n",
        "    width = img.shape[0] / 512\n",
        "    height = img.shape[1] / 512\n",
        "    depth_factor = 1 / depth\n",
        "    width_factor = 1 / width\n",
        "    height_factor = 1 / height\n",
        "    img = ndimage.zoom(img, (width_factor, height_factor, depth_factor), order=1)\n",
        "    return img\n",
        "\n",
        "def preproceesing(path):\n",
        "  k = os.listdir(path)\n",
        "  imgs_train = []\n",
        "  imgs_train_mask = []\n",
        "  seed_train = []\n",
        "  for i in range(k):\n",
        "    imgs_train1 ,imgs_train_mask1 , seed_train1 = load_train_data(i)\n",
        "    imgs_train.append(imgs_train1)\n",
        "    imgs_train_mask.append(imgs_train_mask1)\n",
        "    seed_train.append(seed_train1)\n",
        "  newimg = []\n",
        "  newmasklist = []\n",
        "  for j in range(k):\n",
        "    newarray, newmask = getinshape(listim[n], mask[n])\n",
        "    newimg.append(newarray)\n",
        "    newmasklist.append(newmask)\n",
        "  return newimg, newmasklist\n",
        "\n",
        "def plotmaster(n, l, fh=5, fw=5):\n",
        "  #imgs_train,imgs_train_mask, seed_train = newarray, newmask, 0\n",
        "  image = newimglist[n]\n",
        "  mask = newmasklist[n]\n",
        "  fig, ax = plt.subplots(figsize = (fh,fw))\n",
        "  plt.imshow(image[:,:,l], cmap = 'gray')\n",
        "  plt.imshow(mask[:,:,l]>0, cmap='jet', alpha=0.3)"
      ],
      "execution_count": null,
      "outputs": []
    },
    {
      "cell_type": "code",
      "metadata": {
        "id": "jc8vX-Tbf9xu"
      },
      "source": [
        "def getinshape(img, mask):\n",
        "  newarray = resize_volume(imgs_train)\n",
        "  newmask = resize_volume(imgs_train_mask)\n",
        "  return newarray, newmask"
      ],
      "execution_count": null,
      "outputs": []
    },
    {
      "cell_type": "code",
      "metadata": {
        "id": "4L-mH3HViQwt"
      },
      "source": [
        "def plotmaster2(n, l, fh=5, fw=5):\n",
        "  imgs_train,imgs_train_mask, seed_train = newarray, newmask, 0\n",
        "  image = imgs_train\n",
        "  mask = imgs_train_mask\n",
        "  fig, ax = plt.subplots(figsize = (fh,fw))\n",
        "  plt.imshow(image[:,:,l], cmap = 'gray')\n",
        "  plt.imshow(mask[:,:,l]>0, cmap='jet', alpha=0.3)"
      ],
      "execution_count": null,
      "outputs": []
    },
    {
      "cell_type": "code",
      "metadata": {
        "colab": {
          "base_uri": "https://localhost:8080/",
          "height": 164
        },
        "id": "ViiXXOwBiejh",
        "outputId": "29539490-180e-4244-d2ac-93f2eaa8309c"
      },
      "source": [
        "plotmaster2(1, 15, fh=5, fw=5)"
      ],
      "execution_count": null,
      "outputs": [
        {
          "output_type": "error",
          "ename": "NameError",
          "evalue": "ignored",
          "traceback": [
            "\u001b[0;31m---------------------------------------------------------------------------\u001b[0m",
            "\u001b[0;31mNameError\u001b[0m                                 Traceback (most recent call last)",
            "\u001b[0;32m<ipython-input-15-d4539ae69259>\u001b[0m in \u001b[0;36m<module>\u001b[0;34m()\u001b[0m\n\u001b[0;32m----> 1\u001b[0;31m \u001b[0mplotmaster2\u001b[0m\u001b[0;34m(\u001b[0m\u001b[0;36m1\u001b[0m\u001b[0;34m,\u001b[0m \u001b[0;36m15\u001b[0m\u001b[0;34m,\u001b[0m \u001b[0mfh\u001b[0m\u001b[0;34m=\u001b[0m\u001b[0;36m5\u001b[0m\u001b[0;34m,\u001b[0m \u001b[0mfw\u001b[0m\u001b[0;34m=\u001b[0m\u001b[0;36m5\u001b[0m\u001b[0;34m)\u001b[0m\u001b[0;34m\u001b[0m\u001b[0;34m\u001b[0m\u001b[0m\n\u001b[0m",
            "\u001b[0;31mNameError\u001b[0m: name 'plotmaster2' is not defined"
          ]
        }
      ]
    },
    {
      "cell_type": "code",
      "metadata": {
        "id": "7SlLpXaqK-EM"
      },
      "source": [
        "def plotmaster(n, l, fh=5, fw=5):\n",
        "  imgs_train,imgs_train_mask, seed_train = load_train_data(n)\n",
        "  image = imgs_train\n",
        "  mask = imgs_train_mask\n",
        "  fig, ax = plt.subplots(figsize = (fh,fw))\n",
        "  plt.imshow(image[:,:,l], cmap = 'gray')\n",
        "  plt.imshow(mask[:,:,l]>0, cmap='jet', alpha=0.3)"
      ],
      "execution_count": null,
      "outputs": []
    },
    {
      "cell_type": "code",
      "metadata": {
        "id": "RFHIhbgNjn8L"
      },
      "source": [
        "listim = []\n",
        "listma = []\n",
        "listind = []\n",
        "for i in range(0, 10):\n",
        "  imgs_train,imgs_train_mask, seed_train = load_train_data(i)\n",
        "  listind.append(os.listdir(data_path)[i])\n",
        "  listim.append(imgs_train)\n",
        "  listma.append(imgs_train_mask)"
      ],
      "execution_count": null,
      "outputs": []
    },
    {
      "cell_type": "code",
      "metadata": {
        "id": "5SY7lPAXlL92"
      },
      "source": [
        "def resize(n):\n",
        "  newimg = []\n",
        "  newmasklist = []\n",
        "  for i in range(0,n):\n",
        "    newarray, newmask = getinshape(listim[n], mask[n])\n",
        "    newimg.append(newarray)\n",
        "    newmasklist.append(newmask)\n",
        "  return newimg, newmasklist"
      ],
      "execution_count": null,
      "outputs": []
    },
    {
      "cell_type": "code",
      "metadata": {
        "id": "y5EOxu5smm3e"
      },
      "source": [
        "newimglist, newmasklist = resize(8)"
      ],
      "execution_count": null,
      "outputs": []
    },
    {
      "cell_type": "code",
      "metadata": {
        "id": "QvdpFLqHnanU"
      },
      "source": [
        "def plotmaster2(n, l, fh=5, fw=5):\n",
        "  #imgs_train,imgs_train_mask, seed_train = newarray, newmask, 0\n",
        "  image = newimglist[n]\n",
        "  mask = newmasklist[n]\n",
        "  fig, ax = plt.subplots(figsize = (fh,fw))\n",
        "  plt.imshow(image[:,:,l], cmap = 'gray')\n",
        "  plt.imshow(mask[:,:,l]>0, cmap='jet', alpha=0.3)"
      ],
      "execution_count": null,
      "outputs": []
    },
    {
      "cell_type": "code",
      "metadata": {
        "colab": {
          "base_uri": "https://localhost:8080/",
          "height": 323
        },
        "id": "rcQ-GohNnl1p",
        "outputId": "da14951c-0769-4f6b-90f4-aa1fa79cf90e"
      },
      "source": [
        "plotmaster2(1, 11, fh=5, fw=5)"
      ],
      "execution_count": null,
      "outputs": [
        {
          "output_type": "display_data",
          "data": {
            "image/png": "[encoded data removed]",
            "text/plain": [
              "<Figure size 360x360 with 1 Axes>"
            ]
          },
          "metadata": {
            "tags": [],
            "needs_background": "light"
          }
        }
      ]
    },
    {
      "cell_type": "code",
      "metadata": {
        "id": "WK0Um2HNFZWG"
      },
      "source": [
        "## DATA CLEANING PIPELINE:\n",
        "\n",
        "import nibabel as nib\n",
        "from scipy import ndimage\n",
        "\n",
        "def displayImgAndMask(idx):\n",
        "    #train_data_path = os.path.join(data_path,'train')\n",
        "    imageid = os.listdir(data_path)\n",
        "    train_path = os.path.join(data_path,imageid[idx])\n",
        "    img_path_main = os.path.join(train_path,'images')\n",
        "    img_path = os.path.join(img_path_main,str(imageid[idx])+'.npy')\n",
        "    masks_path_main = os.path.join(train_path,'masks')\n",
        "    mask_path = os.path.join(masks_path_main,'mask.npy')\n",
        "    seedcsv = os.path.join(train_path,'seeds.csv')\n",
        "    seednpy = os.path.join(train_path,'seeds.npy')\n",
        "    return img_path, mask_path, seednpy, seedcsv\n",
        "\n",
        "def load_train_data(n):\n",
        "    impath = displayImgAndMask(n)[0]\n",
        "    maskpath = displayImgAndMask(n)[0]\n",
        "    snp = displayImgAndMask(n)[0]\n",
        "    imgs_train = np.load(impath)\n",
        "    imgs_train_mask = np.load(maskpath)\n",
        "    seed_train = np.load(snp)\n",
        "    return imgs_train,imgs_train_mask, seed_train\n",
        "\n",
        "def resize_volume(img):\n",
        "    depth = img.shape[-1] / 41\n",
        "    width = img.shape[0] / 512\n",
        "    height = img.shape[1] / 512\n",
        "    depth_factor = 1 / depth\n",
        "    width_factor = 1 / width\n",
        "    height_factor = 1 / height\n",
        "    img = ndimage.zoom(img, (width_factor, height_factor, depth_factor), order=1)\n",
        "    return img\n",
        "\n",
        "def getinshape(img, mask):\n",
        "  newarray = resize_volume(img)\n",
        "  newmask = resize_volume(mask)\n",
        "  return newarray, newmask\n",
        "\n",
        "def normalize(image, MIN_BOUND, MAX_BOUND):\n",
        "    image = (image - MIN_BOUND) / (MAX_BOUND - MIN_BOUND)\n",
        "    image[image>1] = 1.\n",
        "    image[image<0] = 0.\n",
        "    return image\n",
        "\n",
        "def preproceesing(path):\n",
        "  k = len(os.listdir(path))\n",
        "  imgs_train = []\n",
        "  imgs_train_mask = []\n",
        "  seed_train = []\n",
        "  newimg = []\n",
        "  newimg2 = []\n",
        "  newmasklist = []\n",
        "  for i in range(0,k):\n",
        "    imgs_train1 ,imgs_train_mask1 , seed_train1 = load_train_data(i)\n",
        "    imgs_train.append(imgs_train1)\n",
        "    imgs_train_mask.append(imgs_train_mask1)\n",
        "    seed_train.append(seed_train1)\n",
        "  for j in range(0,k):\n",
        "    newarray, newmask = getinshape(imgs_train[j], imgs_train_mask[j])\n",
        "    newimg.append(newarray)\n",
        "    newmasklist.append(newmask)\n",
        "  for m in range(0, k):\n",
        "    newimg2.append(normalize(newimg[m], -500, 500))\n",
        "  return newimg2, newmasklist\n",
        "\n",
        "### VISUALIZATION PIPELINE\n",
        "\n",
        "def plotmaster(n, l, fh=5, fw=5):\n",
        "  #imgs_train,imgs_train_mask, seed_train = newarray, newmask, 0\n",
        "  image = newimg[n]\n",
        "  mask = newmasklist[n]\n",
        "  fig, ax = plt.subplots(figsize = (fh,fw))\n",
        "  plt.imshow(image[:,:,l], cmap = 'gray')\n",
        "  plt.imshow(mask[:,:,l]>0, cmap='jet', alpha=0.3)\n",
        "\n",
        "def plotmasternorm(n, l, fh=5, fw=5):\n",
        "  #imgs_train,imgs_train_mask, seed_train = newarray, newmask, 0\n",
        "  image = newimg[n]\n",
        "  mask = newmasklist[n]\n",
        "  fig, ax = plt.subplots(figsize = (fh,fw))\n",
        "  plt.imshow(image[:,:,l], cmap = 'gray')\n",
        "  plt.imshow(mask[:,:,l]>500, cmap='jet', alpha=0.3)"
      ],
      "execution_count": null,
      "outputs": []
    },
    {
      "cell_type": "code",
      "metadata": {
        "id": "SYBSHoyeo243"
      },
      "source": [
        ""
      ],
      "execution_count": null,
      "outputs": []
    },
    {
      "cell_type": "code",
      "metadata": {
        "id": "vzrryzyPFHM5"
      },
      "source": [
        ""
      ],
      "execution_count": null,
      "outputs": []
    },
    {
      "cell_type": "code",
      "metadata": {
        "id": "IGcIZC3oFD9e"
      },
      "source": [
        ""
      ],
      "execution_count": null,
      "outputs": []
    },
    {
      "cell_type": "code",
      "metadata": {
        "id": "jM6d8VjtFa6C"
      },
      "source": [
        "data_path = '/content/drive/MyDrive/MedHacks_Drive/Hackathon/AlphaTauDataset/training/'"
      ],
      "execution_count": null,
      "outputs": []
    },
    {
      "cell_type": "code",
      "metadata": {
        "id": "57LgwyzMFpDs",
        "colab": {
          "base_uri": "https://localhost:8080/",
          "height": 307
        },
        "outputId": "e74983ad-e2ae-4645-f6ff-80329a9f9810"
      },
      "source": [
        "newimg, newmasklist = preproceesing(data_path)"
      ],
      "execution_count": null,
      "outputs": [
        {
          "output_type": "error",
          "ename": "KeyboardInterrupt",
          "evalue": "ignored",
          "traceback": [
            "\u001b[0;31m---------------------------------------------------------------------------\u001b[0m",
            "\u001b[0;31mKeyboardInterrupt\u001b[0m                         Traceback (most recent call last)",
            "\u001b[0;32m<ipython-input-18-3059bcd0d629>\u001b[0m in \u001b[0;36m<module>\u001b[0;34m()\u001b[0m\n\u001b[0;32m----> 1\u001b[0;31m \u001b[0mnewimg\u001b[0m\u001b[0;34m,\u001b[0m \u001b[0mnewmasklist\u001b[0m \u001b[0;34m=\u001b[0m \u001b[0mpreproceesing\u001b[0m\u001b[0;34m(\u001b[0m\u001b[0mdata_path\u001b[0m\u001b[0;34m)\u001b[0m\u001b[0;34m\u001b[0m\u001b[0;34m\u001b[0m\u001b[0m\n\u001b[0m",
            "\u001b[0;32m<ipython-input-17-5a7bee6f8dfb>\u001b[0m in \u001b[0;36mpreproceesing\u001b[0;34m(path)\u001b[0m\n\u001b[1;32m     55\u001b[0m   \u001b[0mnewmasklist\u001b[0m \u001b[0;34m=\u001b[0m \u001b[0;34m[\u001b[0m\u001b[0;34m]\u001b[0m\u001b[0;34m\u001b[0m\u001b[0;34m\u001b[0m\u001b[0m\n\u001b[1;32m     56\u001b[0m   \u001b[0;32mfor\u001b[0m \u001b[0mi\u001b[0m \u001b[0;32min\u001b[0m \u001b[0mrange\u001b[0m\u001b[0;34m(\u001b[0m\u001b[0;36m0\u001b[0m\u001b[0;34m,\u001b[0m\u001b[0mk\u001b[0m\u001b[0;34m)\u001b[0m\u001b[0;34m:\u001b[0m\u001b[0;34m\u001b[0m\u001b[0;34m\u001b[0m\u001b[0m\n\u001b[0;32m---> 57\u001b[0;31m     \u001b[0mimgs_train1\u001b[0m \u001b[0;34m,\u001b[0m\u001b[0mimgs_train_mask1\u001b[0m \u001b[0;34m,\u001b[0m \u001b[0mseed_train1\u001b[0m \u001b[0;34m=\u001b[0m \u001b[0mload_train_data\u001b[0m\u001b[0;34m(\u001b[0m\u001b[0mi\u001b[0m\u001b[0;34m)\u001b[0m\u001b[0;34m\u001b[0m\u001b[0;34m\u001b[0m\u001b[0m\n\u001b[0m\u001b[1;32m     58\u001b[0m     \u001b[0mimgs_train\u001b[0m\u001b[0;34m.\u001b[0m\u001b[0mappend\u001b[0m\u001b[0;34m(\u001b[0m\u001b[0mimgs_train1\u001b[0m\u001b[0;34m)\u001b[0m\u001b[0;34m\u001b[0m\u001b[0;34m\u001b[0m\u001b[0m\n\u001b[1;32m     59\u001b[0m     \u001b[0mimgs_train_mask\u001b[0m\u001b[0;34m.\u001b[0m\u001b[0mappend\u001b[0m\u001b[0;34m(\u001b[0m\u001b[0mimgs_train_mask1\u001b[0m\u001b[0;34m)\u001b[0m\u001b[0;34m\u001b[0m\u001b[0;34m\u001b[0m\u001b[0m\n",
            "\u001b[0;32m<ipython-input-17-5a7bee6f8dfb>\u001b[0m in \u001b[0;36mload_train_data\u001b[0;34m(n)\u001b[0m\n\u001b[1;32m     20\u001b[0m     \u001b[0mmaskpath\u001b[0m \u001b[0;34m=\u001b[0m \u001b[0mdisplayImgAndMask\u001b[0m\u001b[0;34m(\u001b[0m\u001b[0mn\u001b[0m\u001b[0;34m)\u001b[0m\u001b[0;34m[\u001b[0m\u001b[0;36m0\u001b[0m\u001b[0;34m]\u001b[0m\u001b[0;34m\u001b[0m\u001b[0;34m\u001b[0m\u001b[0m\n\u001b[1;32m     21\u001b[0m     \u001b[0msnp\u001b[0m \u001b[0;34m=\u001b[0m \u001b[0mdisplayImgAndMask\u001b[0m\u001b[0;34m(\u001b[0m\u001b[0mn\u001b[0m\u001b[0;34m)\u001b[0m\u001b[0;34m[\u001b[0m\u001b[0;36m0\u001b[0m\u001b[0;34m]\u001b[0m\u001b[0;34m\u001b[0m\u001b[0;34m\u001b[0m\u001b[0m\n\u001b[0;32m---> 22\u001b[0;31m     \u001b[0mimgs_train\u001b[0m \u001b[0;34m=\u001b[0m \u001b[0mnp\u001b[0m\u001b[0;34m.\u001b[0m\u001b[0mload\u001b[0m\u001b[0;34m(\u001b[0m\u001b[0mimpath\u001b[0m\u001b[0;34m)\u001b[0m\u001b[0;34m\u001b[0m\u001b[0;34m\u001b[0m\u001b[0m\n\u001b[0m\u001b[1;32m     23\u001b[0m     \u001b[0mimgs_train_mask\u001b[0m \u001b[0;34m=\u001b[0m \u001b[0mnp\u001b[0m\u001b[0;34m.\u001b[0m\u001b[0mload\u001b[0m\u001b[0;34m(\u001b[0m\u001b[0mmaskpath\u001b[0m\u001b[0;34m)\u001b[0m\u001b[0;34m\u001b[0m\u001b[0;34m\u001b[0m\u001b[0m\n\u001b[1;32m     24\u001b[0m     \u001b[0mseed_train\u001b[0m \u001b[0;34m=\u001b[0m \u001b[0mnp\u001b[0m\u001b[0;34m.\u001b[0m\u001b[0mload\u001b[0m\u001b[0;34m(\u001b[0m\u001b[0msnp\u001b[0m\u001b[0;34m)\u001b[0m\u001b[0;34m\u001b[0m\u001b[0;34m\u001b[0m\u001b[0m\n",
            "\u001b[0;32m/usr/local/lib/python3.7/dist-packages/numpy/lib/npyio.py\u001b[0m in \u001b[0;36mload\u001b[0;34m(file, mmap_mode, allow_pickle, fix_imports, encoding)\u001b[0m\n\u001b[1;32m    438\u001b[0m             \u001b[0;32melse\u001b[0m\u001b[0;34m:\u001b[0m\u001b[0;34m\u001b[0m\u001b[0;34m\u001b[0m\u001b[0m\n\u001b[1;32m    439\u001b[0m                 return format.read_array(fid, allow_pickle=allow_pickle,\n\u001b[0;32m--> 440\u001b[0;31m                                          pickle_kwargs=pickle_kwargs)\n\u001b[0m\u001b[1;32m    441\u001b[0m         \u001b[0;32melse\u001b[0m\u001b[0;34m:\u001b[0m\u001b[0;34m\u001b[0m\u001b[0;34m\u001b[0m\u001b[0m\n\u001b[1;32m    442\u001b[0m             \u001b[0;31m# Try a pickle\u001b[0m\u001b[0;34m\u001b[0m\u001b[0;34m\u001b[0m\u001b[0;34m\u001b[0m\u001b[0m\n",
            "\u001b[0;32m/usr/local/lib/python3.7/dist-packages/numpy/lib/format.py\u001b[0m in \u001b[0;36mread_array\u001b[0;34m(fp, allow_pickle, pickle_kwargs)\u001b[0m\n\u001b[1;32m    739\u001b[0m         \u001b[0;32mif\u001b[0m \u001b[0misfileobj\u001b[0m\u001b[0;34m(\u001b[0m\u001b[0mfp\u001b[0m\u001b[0;34m)\u001b[0m\u001b[0;34m:\u001b[0m\u001b[0;34m\u001b[0m\u001b[0;34m\u001b[0m\u001b[0m\n\u001b[1;32m    740\u001b[0m             \u001b[0;31m# We can use the fast fromfile() function.\u001b[0m\u001b[0;34m\u001b[0m\u001b[0;34m\u001b[0m\u001b[0;34m\u001b[0m\u001b[0m\n\u001b[0;32m--> 741\u001b[0;31m             \u001b[0marray\u001b[0m \u001b[0;34m=\u001b[0m \u001b[0mnumpy\u001b[0m\u001b[0;34m.\u001b[0m\u001b[0mfromfile\u001b[0m\u001b[0;34m(\u001b[0m\u001b[0mfp\u001b[0m\u001b[0;34m,\u001b[0m \u001b[0mdtype\u001b[0m\u001b[0;34m=\u001b[0m\u001b[0mdtype\u001b[0m\u001b[0;34m,\u001b[0m \u001b[0mcount\u001b[0m\u001b[0;34m=\u001b[0m\u001b[0mcount\u001b[0m\u001b[0;34m)\u001b[0m\u001b[0;34m\u001b[0m\u001b[0;34m\u001b[0m\u001b[0m\n\u001b[0m\u001b[1;32m    742\u001b[0m         \u001b[0;32melse\u001b[0m\u001b[0;34m:\u001b[0m\u001b[0;34m\u001b[0m\u001b[0;34m\u001b[0m\u001b[0m\n\u001b[1;32m    743\u001b[0m             \u001b[0;31m# This is not a real file. We have to read it the\u001b[0m\u001b[0;34m\u001b[0m\u001b[0;34m\u001b[0m\u001b[0;34m\u001b[0m\u001b[0m\n",
            "\u001b[0;31mKeyboardInterrupt\u001b[0m: "
          ]
        }
      ]
    },
    {
      "cell_type": "code",
      "metadata": {
        "colab": {
          "base_uri": "https://localhost:8080/",
          "height": 323
        },
        "id": "CqXexZR3mPgU",
        "outputId": "9e2ac268-abde-4280-f303-e681d8ecdde3"
      },
      "source": [
        "plotmasternorm(1, 25, fh=5, fw=5)"
      ],
      "execution_count": null,
      "outputs": [
        {
          "output_type": "display_data",
          "data": {
            "image/png": "[encoded data removed]",
            "text/plain": [
              "<Figure size 360x360 with 1 Axes>"
            ]
          },
          "metadata": {
            "tags": [],
            "needs_background": "light"
          }
        }
      ]
    },
    {
      "cell_type": "code",
      "metadata": {
        "colab": {
          "base_uri": "https://localhost:8080/",
          "height": 286
        },
        "id": "zqDwm44Zoj-f",
        "outputId": "d0afd740-cd38-4376-d1a6-c92344e4f081"
      },
      "source": [
        "l = 25\n",
        "plt.imshow(newimg[1][:,:,l]>0.99, cmap = 'gray')\n",
        "plt.imshow(newimg[1][:,:,l]>500, cmap='jet', alpha=0.3)"
      ],
      "execution_count": null,
      "outputs": [
        {
          "output_type": "execute_result",
          "data": {
            "text/plain": [
              "<matplotlib.image.AxesImage at 0x7f9477daaa10>"
            ]
          },
          "metadata": {
            "tags": []
          },
          "execution_count": 24
        },
        {
          "output_type": "display_data",
          "data": {
            "image/png": "[encoded data removed]",
            "text/plain": [
              "<Figure size 432x288 with 1 Axes>"
            ]
          },
          "metadata": {
            "tags": [],
            "needs_background": "light"
          }
        }
      ]
    },
    {
      "cell_type": "code",
      "metadata": {
        "colab": {
          "base_uri": "https://localhost:8080/",
          "height": 344
        },
        "id": "__qRyBiwFVV7",
        "outputId": "4ab00f05-42a9-425c-d81e-d2c0cf570cd8"
      },
      "source": [
        "plt.hist(newimg[5].flatten(), color='c')"
      ],
      "execution_count": null,
      "outputs": [
        {
          "output_type": "execute_result",
          "data": {
            "text/plain": [
              "(array([8036643.,   42191.,   35412.,  275334.,  670203., 1547894.,\n",
              "          41584.,   23533.,   16353.,   58757.]),\n",
              " array([0. , 0.1, 0.2, 0.3, 0.4, 0.5, 0.6, 0.7, 0.8, 0.9, 1. ]),\n",
              " <a list of 10 Patch objects>)"
            ]
          },
          "metadata": {
            "tags": []
          },
          "execution_count": 20
        },
        {
          "output_type": "display_data",
          "data": {
            "image/png": "[encoded data removed]",
            "text/plain": [
              "<Figure size 432x288 with 1 Axes>"
            ]
          },
          "metadata": {
            "tags": [],
            "needs_background": "light"
          }
        }
      ]
    },
    {
      "cell_type": "code",
      "metadata": {
        "colab": {
          "base_uri": "https://localhost:8080/",
          "height": 215
        },
        "id": "wmLfTh4hFJTU",
        "outputId": "fb6e2390-4fb5-4955-ca86-774e1c9a27ac"
      },
      "source": [
        "import numpy as np\n",
        "import matplotlib.pyplot as plt\n",
        "from skimage import measure\n",
        "\n",
        "r = newimg[1][:,:,25]\n",
        "\n",
        "# Find contours at a constant value of 0.8\n",
        "contours = measure.find_contours(r, 0.99)\n",
        "\n",
        "# Select the largest contiguous contour\n",
        "contour = sorted(contours, key=lambda x: len(x))\n",
        "\n",
        "contour"
      ],
      "execution_count": null,
      "outputs": [
        {
          "output_type": "error",
          "ename": "error",
          "evalue": "ignored",
          "traceback": [
            "\u001b[0;31m---------------------------------------------------------------------------\u001b[0m",
            "\u001b[0;31merror\u001b[0m                                     Traceback (most recent call last)",
            "\u001b[0;32m<ipython-input-38-5498e4d83e68>\u001b[0m in \u001b[0;36m<module>\u001b[0;34m()\u001b[0m\n\u001b[1;32m     13\u001b[0m \u001b[0mcontour_area\u001b[0m \u001b[0;34m=\u001b[0m \u001b[0;34m[\u001b[0m\u001b[0;34m]\u001b[0m\u001b[0;34m\u001b[0m\u001b[0;34m\u001b[0m\u001b[0m\n\u001b[1;32m     14\u001b[0m \u001b[0;32mfor\u001b[0m \u001b[0mi\u001b[0m \u001b[0;32min\u001b[0m \u001b[0mrange\u001b[0m\u001b[0;34m(\u001b[0m\u001b[0;36m0\u001b[0m\u001b[0;34m,\u001b[0m \u001b[0mlen\u001b[0m\u001b[0;34m(\u001b[0m\u001b[0mcontour_sort\u001b[0m\u001b[0;34m)\u001b[0m\u001b[0;34m)\u001b[0m\u001b[0;34m:\u001b[0m\u001b[0;34m\u001b[0m\u001b[0;34m\u001b[0m\u001b[0m\n\u001b[0;32m---> 15\u001b[0;31m   \u001b[0mcontour_area\u001b[0m\u001b[0;34m.\u001b[0m\u001b[0mappend\u001b[0m\u001b[0;34m(\u001b[0m\u001b[0mcv2\u001b[0m\u001b[0;34m.\u001b[0m\u001b[0mcontourArea\u001b[0m\u001b[0;34m(\u001b[0m\u001b[0mcontour_sort\u001b[0m\u001b[0;34m[\u001b[0m\u001b[0mi\u001b[0m\u001b[0;34m]\u001b[0m\u001b[0;34m)\u001b[0m\u001b[0;34m)\u001b[0m\u001b[0;34m\u001b[0m\u001b[0;34m\u001b[0m\u001b[0m\n\u001b[0m",
            "\u001b[0;31merror\u001b[0m: OpenCV(4.1.2) /io/opencv/modules/imgproc/src/shapedescr.cpp:274: error: (-215:Assertion failed) npoints >= 0 && (depth == CV_32F || depth == CV_32S) in function 'contourArea'\n"
          ]
        }
      ]
    },
    {
      "cell_type": "code",
      "metadata": {
        "colab": {
          "base_uri": "https://localhost:8080/",
          "height": 269
        },
        "id": "fKBiFjqLp9Mi",
        "outputId": "bba0261d-dbcf-4374-9e08-f8a5400d6d56"
      },
      "source": [
        "# Display the image and plot the contour\n",
        "fig, ax = plt.subplots()\n",
        "ax.imshow(r, interpolation='nearest', cmap=plt.cm.gray)\n",
        "X, Y = ax.get_xlim(), ax.get_ylim()\n",
        "ax.step(contour.T[1], contour.T[0], linewidth=2, c='r')\n",
        "ax.set_xlim(X), ax.set_ylim(Y)\n",
        "plt.show()"
      ],
      "execution_count": null,
      "outputs": [
        {
          "output_type": "display_data",
          "data": {
            "image/png": "[encoded data removed]",
            "text/plain": [
              "<Figure size 432x288 with 1 Axes>"
            ]
          },
          "metadata": {
            "tags": [],
            "needs_background": "light"
          }
        }
      ]
    },
    {
      "cell_type": "code",
      "metadata": {
        "id": "_4Lxnurvyw55"
      },
      "source": [
        "import cv2\n",
        "thresh = cv2.threshold(gray,4,255,0)[1]\n",
        "\n",
        "# apply morphology open to smooth the outline\n",
        "kernel = cv2.getStructuringElement(cv2.MORPH_ELLIPSE, (11,11))\n",
        "thresh = cv2.morphologyEx(thresh, cv2.MORPH_OPEN, kernel)\n",
        "thresh = cv2.morphologyEx(thresh, cv2.MORPH_CLOSE, kernel)\n",
        "\n",
        "# find contours\n",
        "cntrs = cv2.findContours(thresh, cv2.RETR_LIST, cv2.CHAIN_APPROX_SIMPLE)\n",
        "cntrs = cntrs[0] if len(cntrs) == 2 else cntrs[1]\n",
        "\n",
        "# Contour filtering to get largest area\n",
        "area_thresh = 0\n",
        "for c in cntrs:\n",
        "    area = cv2.contourArea(c)\n",
        "    if area > area_thresh:\n",
        "        area = area_thresh\n",
        "        big_contour = c\n",
        "\n",
        "# draw the contour on a copy of the input image\n",
        "results = img.copy()\n",
        "cv2.drawContours(results,[big_contour],0,(0,0,255),2)"
      ],
      "execution_count": null,
      "outputs": []
    }
  ]
}